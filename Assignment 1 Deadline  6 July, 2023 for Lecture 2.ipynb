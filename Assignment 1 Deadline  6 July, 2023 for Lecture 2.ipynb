{
 "cells": [
  {
   "cell_type": "markdown",
   "id": "d20092de",
   "metadata": {},
   "source": [
    "##  Assignment 1 (Deadline : 6 July, 2023) for Lecture 2"
   ]
  },
  {
   "cell_type": "markdown",
   "id": "a4a9b782",
   "metadata": {},
   "source": [
    "#### 1. Write a Python program to reverse a string without using any built-in string reversal functions."
   ]
  },
  {
   "cell_type": "code",
   "execution_count": 1,
   "id": "0c00764b",
   "metadata": {},
   "outputs": [
    {
     "name": "stdout",
     "output_type": "stream",
     "text": [
      "dlroW olleH\n"
     ]
    }
   ],
   "source": [
    "def reverse_string(string):\n",
    "  reversed_string = \"\"\n",
    "  for i in range(len(string) - 1, -1, -1):\n",
    "    reversed_string += string[i]\n",
    "  return reversed_string\n",
    "print(reverse_string(\"Hello World\"))\n",
    "# The above code have time complexity is = o(n) and space complexity o(n)"
   ]
  },
  {
   "cell_type": "markdown",
   "id": "b5255970",
   "metadata": {},
   "source": [
    "#### 2. Implement a function to check if a given string is a palindrome."
   ]
  },
  {
   "cell_type": "code",
   "execution_count": 2,
   "id": "f4f4c5e9",
   "metadata": {},
   "outputs": [
    {
     "name": "stdout",
     "output_type": "stream",
     "text": [
      "Please enter word to check = madam\n",
      "Given word madam is Palindrome\n"
     ]
    }
   ],
   "source": [
    "def check_palindrome(word):\n",
    "    for i in range(len(word)//2):\n",
    "        if word[i]!=word[-1-i]:\n",
    "            return f\"Given word {word} is not Palindrome\"\n",
    "    return f\"Given word {word} is Palindrome\"\n",
    "word=input(\"Please enter word to check = \")\n",
    "print(check_palindrome(word))\n",
    "# The above code have time complexity is = o(n/2) and space complexity o(n)"
   ]
  },
  {
   "cell_type": "markdown",
   "id": "e4c4bdf4",
   "metadata": {},
   "source": [
    "#### 3.Write a program to find the largest element in a given list."
   ]
  },
  {
   "cell_type": "code",
   "execution_count": 3,
   "id": "463e9283",
   "metadata": {},
   "outputs": [
    {
     "name": "stdout",
     "output_type": "stream",
     "text": [
      "78\n"
     ]
    }
   ],
   "source": [
    "def largest_amongofus(input_list):\n",
    "    if len(input_list)==0: return None\n",
    "    largest=input_list[0]\n",
    "    for i in input_list:\n",
    "        if i>largest:\n",
    "            largest=i\n",
    "    return largest\n",
    "input_list=[1,2,3,4,56,78,9,52]\n",
    "print(largest_amongofus(input_list))\n",
    "# The above code have time complexity is = o(n) and space complexity o(1)"
   ]
  },
  {
   "cell_type": "markdown",
   "id": "8fc20ce4",
   "metadata": {},
   "source": [
    "#### 4. Implement a function to count the occurrence of each element in a list."
   ]
  },
  {
   "cell_type": "code",
   "execution_count": 4,
   "id": "b73733db",
   "metadata": {},
   "outputs": [
    {
     "name": "stdout",
     "output_type": "stream",
     "text": [
      "{1: 4, 2: 4, 3: 2, 4: 1, 56: 1, 78: 1, 9: 1, 52: 1, 11: 1}\n"
     ]
    }
   ],
   "source": [
    "def count_all(input_list):\n",
    "    dic={}\n",
    "    for i,num in enumerate(input_list):\n",
    "        if num not in dic:\n",
    "            dic[num]=1\n",
    "        else :\n",
    "            dic[num]+=1\n",
    "    return dic\n",
    "input_list=[1,2,3,4,56,78,9,52,1,2,2,3,2,1,1,11,]\n",
    "print(count_all(input_list))\n",
    "# The above code have time complexity is = o(n) and space complexity o(1)"
   ]
  },
  {
   "cell_type": "markdown",
   "id": "12764df8",
   "metadata": {},
   "source": [
    "#### 5. Write a Python program to find the second largest number in a list."
   ]
  },
  {
   "cell_type": "code",
   "execution_count": 5,
   "id": "8cd4068c",
   "metadata": {},
   "outputs": [
    {
     "name": "stdout",
     "output_type": "stream",
     "text": [
      "8\n"
     ]
    }
   ],
   "source": [
    "def second_best(input_list):\n",
    "    input_list.sort()\n",
    "    return input_list[-2]\n",
    "input_list=[1,2,3,4,5,6,7,8,9]\n",
    "print(second_best(input_list))"
   ]
  },
  {
   "cell_type": "markdown",
   "id": "d59b0ec2",
   "metadata": {},
   "source": [
    "#### 6. Implement a function to remove duplicate elements from a list."
   ]
  },
  {
   "cell_type": "code",
   "execution_count": 6,
   "id": "26b70f5f",
   "metadata": {},
   "outputs": [
    {
     "name": "stdout",
     "output_type": "stream",
     "text": [
      "[1, 2, 3, 4, 5, 6, 7, 8, 9, 10]\n"
     ]
    }
   ],
   "source": [
    "def remove_dupli(lst):\n",
    "    seen = set()\n",
    "    result = []\n",
    "    for element in lst:\n",
    "        if element not in seen:\n",
    "            seen.add(element)\n",
    "            result.append(element)\n",
    "    return result\n",
    "\n",
    "input_list=[1,2,2,3,3,4,5,6,7,8,9,10,10]\n",
    "print(remove_dupli(input_list))\n",
    "# The above code have time complexity is = o(n) and space complexity o(n)"
   ]
  },
  {
   "cell_type": "markdown",
   "id": "fb83bbf6",
   "metadata": {},
   "source": [
    "#### 7. Write a program to calculate the factorial of a given number."
   ]
  },
  {
   "cell_type": "code",
   "execution_count": 7,
   "id": "f23cbf87",
   "metadata": {},
   "outputs": [
    {
     "name": "stdout",
     "output_type": "stream",
     "text": [
      "Please enter any number = 5\n",
      "120\n"
     ]
    }
   ],
   "source": [
    "def facto(num):\n",
    "    if num <0: return \"Factorial is not defined for negative interger\"\n",
    "    output=1\n",
    "    for i in range(1,num+1):\n",
    "        output*=i\n",
    "    return output\n",
    "num=int(input(\"Please enter any number = \"))\n",
    "print(facto(num))\n",
    "# The above code have time complexity is = o(n) and space complexity o(n)\n"
   ]
  },
  {
   "cell_type": "code",
   "execution_count": 8,
   "id": "f5eeb087",
   "metadata": {},
   "outputs": [
    {
     "name": "stdout",
     "output_type": "stream",
     "text": [
      "Please enter any number = 5\n",
      "120\n"
     ]
    }
   ],
   "source": [
    "# Alternat solution of the above problem with reculsion\n",
    "def facto2(num):\n",
    "    if num==0:\n",
    "        return 1\n",
    "    return num*facto2(num-1)\n",
    "num=int(input(\"Please enter any number = \"))\n",
    "print(facto2(num))"
   ]
  },
  {
   "cell_type": "markdown",
   "id": "ade29604",
   "metadata": {},
   "source": [
    "#### 8. Implement a function to check if a given number is prime."
   ]
  },
  {
   "cell_type": "code",
   "execution_count": 9,
   "id": "77234c32",
   "metadata": {},
   "outputs": [
    {
     "name": "stdout",
     "output_type": "stream",
     "text": [
      "Please enter any number = 23\n",
      "Yes 23 in prime no \n"
     ]
    }
   ],
   "source": [
    "def is_prime(num):\n",
    "    if num<2:\n",
    "        return f\"Yes {num} in prime no \"\n",
    "    for i in range(2,int(num**1/2)+1):\n",
    "        if num%i==0:\n",
    "            return f\"Yes {num} in not prime number \"\n",
    "    return f\"Yes {num} in prime no \"\n",
    "num=int(input(\"Please enter any number = \"))\n",
    "print(is_prime(num))\n"
   ]
  },
  {
   "cell_type": "markdown",
   "id": "5472c608",
   "metadata": {},
   "source": [
    "#### 9. Write a Python program to sort a list of integers in ascending order."
   ]
  },
  {
   "cell_type": "code",
   "execution_count": 10,
   "id": "d6a7921e",
   "metadata": {},
   "outputs": [
    {
     "name": "stdout",
     "output_type": "stream",
     "text": [
      "[4, 1, 3, 2, 6, 5]\n",
      "[1, 2, 3, 4, 5, 6]\n"
     ]
    }
   ],
   "source": [
    "def accending(input_list):\n",
    "    for i in range(len(input_list)-1):\n",
    "        for j in range(i+1,len(input_list)):\n",
    "            if input_list[i]>=input_list[j]:\n",
    "                input_list[i],input_list[j]=input_list[j],input_list[i]\n",
    "    return input_list\n",
    "input_list=[4,1,3,2,6,5]\n",
    "print(input_list)\n",
    "print(accending(input_list))\n",
    "# The above code have time complexity is = o(n^2) and space complexity o(n)"
   ]
  },
  {
   "cell_type": "markdown",
   "id": "07053201",
   "metadata": {},
   "source": [
    "#### 10. Implement a function to find the sum of all numbers in a list."
   ]
  },
  {
   "cell_type": "code",
   "execution_count": 11,
   "id": "4a16beac",
   "metadata": {},
   "outputs": [
    {
     "name": "stdout",
     "output_type": "stream",
     "text": [
      "55\n"
     ]
    }
   ],
   "source": [
    "def sum_of_all(input_list):\n",
    "    total=0\n",
    "    for i in input_list:\n",
    "        total+=i\n",
    "    return total\n",
    "input_list=[1,2,3,4,5,6,7,8,9,10]\n",
    "print(sum_of_all(input_list))\n"
   ]
  },
  {
   "cell_type": "markdown",
   "id": "53011d6b",
   "metadata": {},
   "source": [
    "#### 11. Write a program to find the common elements between two lists."
   ]
  },
  {
   "cell_type": "code",
   "execution_count": 12,
   "id": "703bb9bc",
   "metadata": {},
   "outputs": [
    {
     "name": "stdout",
     "output_type": "stream",
     "text": [
      "[6]\n"
     ]
    }
   ],
   "source": [
    "def common(list1,list2):\n",
    "    set2=set(list2)\n",
    "    return [i for i in list1 if i in set2]\n",
    "    return common_elements\n",
    "list1=[1,2,3,4,5,6]\n",
    "list2=[7,8,9,10,11,6]\n",
    "print(common(list1,list2))"
   ]
  },
  {
   "cell_type": "markdown",
   "id": "dc229ad8",
   "metadata": {},
   "source": [
    "#### 12. Implement a function to check if a given string is an anagram of another string."
   ]
  },
  {
   "cell_type": "code",
   "execution_count": 13,
   "id": "2a2647d0",
   "metadata": {},
   "outputs": [
    {
     "name": "stdout",
     "output_type": "stream",
     "text": [
      "Please enter the first word = study\n",
      "Please enter the second word = dusty\n",
      "Given string is the anagram of the another string\n"
     ]
    }
   ],
   "source": [
    "def check_anagram(string1,string2):\n",
    "    string1=string1.replace(\" \",\"\").lower()\n",
    "    string2=string2.replace(\" \",\"\").lower()\n",
    "    string1=sorted(string1)\n",
    "    string2=sorted(string2)\n",
    "    if string1==string2:\n",
    "        return \"Given string is the anagram of the another string\"\n",
    "    else:\n",
    "        return \"Given string is not anagram of the another string\"\n",
    "string1=input(\"Please enter the first word = \")\n",
    "string2=input(\"Please enter the second word = \")\n",
    "print(check_anagram(string1,string2))"
   ]
  },
  {
   "cell_type": "markdown",
   "id": "7c0affd3",
   "metadata": {},
   "source": [
    "#### 13. Write a Python program to generate all permutations of a given string."
   ]
  },
  {
   "cell_type": "code",
   "execution_count": 42,
   "id": "9f4c089c",
   "metadata": {},
   "outputs": [
    {
     "name": "stdout",
     "output_type": "stream",
     "text": [
      "['abc', 'acb', 'bac', 'bca', 'cab', 'cba']\n"
     ]
    }
   ],
   "source": [
    "def permutations(string):\n",
    "    if len(string) == 0:\n",
    "        return ['']\n",
    "\n",
    "    permutations_list = []\n",
    "    for i in range(len(string)):\n",
    "        current_char = string[i]\n",
    "        \n",
    "        remaining_string = string[:i] + string[i + 1:]\n",
    "        permutations_for_remaining_string = permutations(remaining_string)\n",
    "        for permutation in permutations_for_remaining_string:\n",
    "              permutations_list.append(current_char + permutation)\n",
    "\n",
    "    return permutations_list\n",
    "\n",
    "\n",
    "string = 'abc'\n",
    "permutations_list = permutations(string)\n",
    "print(permutations_list)"
   ]
  },
  {
   "cell_type": "markdown",
   "id": "8996e756",
   "metadata": {},
   "source": [
    "#### 14. Implement a function to calculate the Fibonacci sequence up to a given number of terms."
   ]
  },
  {
   "cell_type": "code",
   "execution_count": 41,
   "id": "f64fbe94",
   "metadata": {},
   "outputs": [
    {
     "name": "stdout",
     "output_type": "stream",
     "text": [
      "1 1 2 3 5 8 "
     ]
    }
   ],
   "source": [
    "def fibonacci(number):\n",
    "    a,b=0,1\n",
    "    if number<1:  \n",
    "        print(a)\n",
    "    while b<=number:\n",
    "        print(b,end=\" \")\n",
    "        a,b=b,a+b\n",
    "fibonacci(10) "
   ]
  },
  {
   "cell_type": "markdown",
   "id": "33ac6d2d",
   "metadata": {},
   "source": [
    "#### 15. Write a program to find the median of a list of numbers."
   ]
  },
  {
   "cell_type": "code",
   "execution_count": 42,
   "id": "e0cde3cc",
   "metadata": {},
   "outputs": [
    {
     "name": "stdout",
     "output_type": "stream",
     "text": [
      "4.5\n"
     ]
    }
   ],
   "source": [
    "def median(input_list):\n",
    "    sorted_list = sorted(input_list)\n",
    "    length = len(sorted_list)\n",
    "    if length % 2 == 0:\n",
    "        return (sorted_list[length//2 - 1] + sorted_list[length//2]) / 2\n",
    "    else:\n",
    "        return sorted_list[length//2]\n",
    "\n",
    "input_list = [9, 8, 7, 6,5, 4, 3, 2, 1,1]\n",
    "print(median(input_list))"
   ]
  },
  {
   "cell_type": "markdown",
   "id": "b22edaec",
   "metadata": {},
   "source": [
    "#### 16. Implement a function to check if a given list is sorted in non-decreasing order."
   ]
  },
  {
   "cell_type": "code",
   "execution_count": 102,
   "id": "f5809b0c",
   "metadata": {},
   "outputs": [
    {
     "name": "stdout",
     "output_type": "stream",
     "text": [
      "True\n"
     ]
    }
   ],
   "source": [
    "def check_accending(input_list):\n",
    "    for i in range(len(input_list)-1):\n",
    "        if input_list[i]>input_list[i+1]:\n",
    "            return False\n",
    "    return True\n",
    "input_list=[1,3,5,6,9]\n",
    "print(check_accending(input_list))"
   ]
  },
  {
   "cell_type": "markdown",
   "id": "a804b813",
   "metadata": {},
   "source": [
    "#### 17. Write a Python program to find the intersection of two lists"
   ]
  },
  {
   "cell_type": "code",
   "execution_count": 107,
   "id": "06119d5f",
   "metadata": {},
   "outputs": [
    {
     "name": "stdout",
     "output_type": "stream",
     "text": [
      "[6, 7]\n"
     ]
    }
   ],
   "source": [
    "def intersection(list1,list2):\n",
    "    set2=set(list2)\n",
    "    list_out=[]\n",
    "    for i in list1:\n",
    "        if i in set2:\n",
    "            list_out.append(i)\n",
    "    return list_out\n",
    "list1=[1,2,3,4,5,6,7]\n",
    "list2=[7,8,9,10,11,6]\n",
    "print(intersection(list1,list2))"
   ]
  },
  {
   "cell_type": "markdown",
   "id": "2ea805b2",
   "metadata": {},
   "source": [
    "#### 18. Implement a function to find the maximum subarray sum in a given list."
   ]
  },
  {
   "cell_type": "code",
   "execution_count": 46,
   "id": "5d792c66",
   "metadata": {},
   "outputs": [
    {
     "name": "stdout",
     "output_type": "stream",
     "text": [
      "15\n"
     ]
    }
   ],
   "source": [
    "def max_sub(input_list):\n",
    "    if len(input_list)<=1:\n",
    "        return input_list\n",
    "    sub_array=[]\n",
    "    for i in range(1,len(input_list)-1):\n",
    "        if max_sum<max_sum+input_list[i+1]:\n",
    "            max_sum=max_sum+input_list[i+1]\n",
    "    return max_sum\n",
    "input_list=[1,-1,2,-2,3,-3,4,-4,5,-5]\n",
    "print(max_sub(input_list))"
   ]
  },
  {
   "cell_type": "markdown",
   "id": "1b4dea4c",
   "metadata": {},
   "source": [
    "#### 19. Write a program to remove all vowels from a given string."
   ]
  },
  {
   "cell_type": "code",
   "execution_count": 3,
   "id": "54d5f54b",
   "metadata": {},
   "outputs": [
    {
     "data": {
      "text/plain": [
       "'bhmny'"
      ]
     },
     "execution_count": 3,
     "metadata": {},
     "output_type": "execute_result"
    }
   ],
   "source": [
    "def no_vovels(word):\n",
    "    vovels=(\"a\",\"e\",\"i\",\"o\",\"u\")\n",
    "    output=\"\"\n",
    "    for i in word:\n",
    "        if i.lower() not in vovels:\n",
    "            output+=i\n",
    "    return output\n",
    "word=\"bhumAnyu\"\n",
    "no_vovels(word)"
   ]
  },
  {
   "cell_type": "markdown",
   "id": "a1346314",
   "metadata": {},
   "source": [
    "#### 20. Implement a function to reverse the order of words in a given sentence."
   ]
  },
  {
   "cell_type": "code",
   "execution_count": 9,
   "id": "481fc2df",
   "metadata": {},
   "outputs": [
    {
     "name": "stdout",
     "output_type": "stream",
     "text": [
      "elppa\n"
     ]
    }
   ],
   "source": [
    "def revo(word):\n",
    "    output=\"\"\n",
    "    for i in range(len(word)-1,-1,-1):\n",
    "        output+=word[i]\n",
    "    return output\n",
    "word=\"apple\"\n",
    "print(revo(word))"
   ]
  },
  {
   "cell_type": "code",
   "execution_count": 10,
   "id": "223c4184",
   "metadata": {},
   "outputs": [
    {
     "name": "stdout",
     "output_type": "stream",
     "text": [
      "elppa\n"
     ]
    }
   ],
   "source": [
    "# Alternate method\n",
    "def revo2(word):\n",
    "    return word[::-1]\n",
    "word=\"apple\"\n",
    "print(revo2(word))"
   ]
  },
  {
   "cell_type": "markdown",
   "id": "f5f58ca4",
   "metadata": {},
   "source": [
    "#### 21. Write a Python program to check if two strings are anagrams of each other."
   ]
  },
  {
   "cell_type": "code",
   "execution_count": 36,
   "id": "96ec6472",
   "metadata": {},
   "outputs": [
    {
     "name": "stdout",
     "output_type": "stream",
     "text": [
      "True\n"
     ]
    }
   ],
   "source": [
    "class Anagrams:\n",
    "    def check_anagrams(word1,word2):\n",
    "        word1=word1.lower().replace(\" \",\"\")\n",
    "        word2=word2.lower().replace(\" \",\"\")\n",
    "        if len(word1)!=len(word2):\n",
    "            return False\n",
    "        word1=list(word1)\n",
    "        word2=list(word2)\n",
    "        word1.sort()\n",
    "        word2.sort()\n",
    "        if word1==word2:\n",
    "            return True\n",
    "        return False\n",
    "test1=Anagrams\n",
    "word1=\"Dusty\"\n",
    "word2=\"Study\"\n",
    "print(test1.check_anagrams(word1,word2))"
   ]
  },
  {
   "cell_type": "markdown",
   "id": "742a6d7c",
   "metadata": {},
   "source": [
    "#### 22. Implement a function to find the first non-repeating character in a string.\n"
   ]
  },
  {
   "cell_type": "code",
   "execution_count": 133,
   "id": "5e890e30",
   "metadata": {},
   "outputs": [
    {
     "name": "stdout",
     "output_type": "stream",
     "text": [
      "c\n"
     ]
    }
   ],
   "source": [
    "def non_repi(word):\n",
    "    dic={}\n",
    "    for i in word:\n",
    "        if i not in dic:\n",
    "            dic[i]=1\n",
    "        else:\n",
    "            dic[i]+=1\n",
    "    for j in dic:\n",
    "        if dic[j]==1:\n",
    "            return j\n",
    "    return \"ALl are repeating\"\n",
    "word=\"caabbddj\"\n",
    "print(non_repi(word))"
   ]
  },
  {
   "cell_type": "markdown",
   "id": "26c0b5bd",
   "metadata": {},
   "source": [
    "#### 23. Write a program to find the prime factors of a given number."
   ]
  },
  {
   "cell_type": "code",
   "execution_count": 14,
   "id": "06892a06",
   "metadata": {},
   "outputs": [
    {
     "name": "stdout",
     "output_type": "stream",
     "text": [
      "[2, 3, 5]\n"
     ]
    }
   ],
   "source": [
    "def prime_factor(number):\n",
    "    all_prime_factor=[]\n",
    "    def is_prime(num):\n",
    "        for i in range(2,int(num**.5)+1):\n",
    "            if num%i==0:\n",
    "                return False\n",
    "        return True\n",
    "    for j in range(2,int(number/2)+1):\n",
    "        if number%j==0 and is_prime(j):\n",
    "            all_prime_factor.append(j)\n",
    "    return all_prime_factor\n",
    "number=30\n",
    "print(prime_factor(number))"
   ]
  },
  {
   "cell_type": "markdown",
   "id": "6178a5af",
   "metadata": {},
   "source": [
    "#### 24. Implement a function to check if a given number is a power of two."
   ]
  },
  {
   "cell_type": "code",
   "execution_count": 168,
   "id": "5906c7a5",
   "metadata": {},
   "outputs": [
    {
     "name": "stdout",
     "output_type": "stream",
     "text": [
      "True\n",
      "False\n"
     ]
    }
   ],
   "source": [
    "import math\n",
    "def is_power_two(num):\n",
    "    val=math.log(num)/math.log(2)\n",
    "    if val==int(val):\n",
    "        return True\n",
    "    return False\n",
    "num=32\n",
    "print(is_power_two(num))\n",
    "num2=34\n",
    "print(is_power_two(num2))"
   ]
  },
  {
   "cell_type": "markdown",
   "id": "08737f44",
   "metadata": {},
   "source": [
    "#### 25. Write a Python program to merge two sorted lists into a single sorted list."
   ]
  },
  {
   "cell_type": "code",
   "execution_count": 22,
   "id": "7be4d511",
   "metadata": {},
   "outputs": [
    {
     "name": "stdout",
     "output_type": "stream",
     "text": [
      "[1, 2, 3, 4, 5, 6, 7, 8]\n"
     ]
    }
   ],
   "source": [
    "def merge_shorted(list1,list2):\n",
    "    merged_output=[]\n",
    "    i=0\n",
    "    j=0\n",
    "    while i<len(list1) and j<len(list2):\n",
    "        if list1[i]<list2[j]:\n",
    "            merged_output.append(list1[i])\n",
    "            i+=1\n",
    "\n",
    "        else:\n",
    "            merged_output.append(list2[j])\n",
    "            j+=1\n",
    "        \n",
    "    merged_output.extend(list1[i:])\n",
    "    merged_output.extend(list2[j:])\n",
    "    return merged_output\n",
    "\n",
    "list1=[1,3,5,7]\n",
    "list2=[2,4,6,8]\n",
    "\n",
    "print(merge_shorted(list1,list2))"
   ]
  },
  {
   "cell_type": "markdown",
   "id": "3ddb45f2",
   "metadata": {},
   "source": [
    "#### 26. Implement a function to find the mode of a list of numbers."
   ]
  },
  {
   "cell_type": "code",
   "execution_count": 60,
   "id": "92dbbc4d",
   "metadata": {},
   "outputs": [
    {
     "name": "stdout",
     "output_type": "stream",
     "text": [
      "[15]\n"
     ]
    }
   ],
   "source": [
    "def mode(input_list):\n",
    "    dic={}\n",
    "    modes=[]\n",
    "    for i,num in enumerate(input_list):\n",
    "        if num not in dic:\n",
    "            dic[num]=1\n",
    "        dic[num]+=1\n",
    "    for j,most in dic.items():\n",
    "        if most==max(dic.values()):\n",
    "            modes.append(j)\n",
    "    return modes\n",
    "print(mode([9, 10, 12, 13,15, 15, 15, 16, 16, 18, 22, 23, 24, 24, 25]))"
   ]
  },
  {
   "cell_type": "code",
   "execution_count": 59,
   "id": "7ee5912f",
   "metadata": {},
   "outputs": [
    {
     "name": "stdout",
     "output_type": "stream",
     "text": [
      "[13, 15]\n"
     ]
    }
   ],
   "source": [
    "# Alternate method\n",
    "from collections import defaultdict\n",
    "\n",
    "def mode(input_list):\n",
    "    # Use defaultdict to automatically initialize counts to 0\n",
    "    counts = defaultdict(int)\n",
    "\n",
    "    max_count = 0\n",
    "    modes = []\n",
    "\n",
    "    for num in input_list:\n",
    "        counts[num] += 1\n",
    "        if counts[num] > max_count:\n",
    "            max_count = counts[num]\n",
    "            modes = [num]\n",
    "        elif counts[num] == max_count:\n",
    "            modes.append(num)\n",
    "\n",
    "    return modes\n",
    "\n",
    "# Test the function\n",
    "modes = mode([9, 10, 12, 13, 13, 13, 15, 15, 15, 16, 16, 18, 22, 23, 24, 24, 25])\n",
    "print(modes)  # Output: [13, 15]\n"
   ]
  },
  {
   "cell_type": "markdown",
   "id": "4eeaaeac",
   "metadata": {},
   "source": [
    "#### 27. Write a program to find the greatest common divisor (GCD) of two numbers."
   ]
  },
  {
   "cell_type": "code",
   "execution_count": 73,
   "id": "25ba6088",
   "metadata": {},
   "outputs": [
    {
     "name": "stdout",
     "output_type": "stream",
     "text": [
      "5\n"
     ]
    }
   ],
   "source": [
    "class GCD:\n",
    "    def check_gcd(num1,num2):\n",
    "        fact_num1=[]\n",
    "        fact_num2=[]\n",
    "        out_gcd=1\n",
    "        for i in range(1,int(num1**1/2)+3):\n",
    "            if num1%i==0:\n",
    "                fact_num1.append(i)\n",
    "        for i in range(1,int(num2**1/2)+3):\n",
    "            if num2%i==0:\n",
    "                fact_num2.append(i)\n",
    "        for i in range(-1,-len(fact_num1)-1,-1):\n",
    "            if fact_num1[i] in fact_num2:\n",
    "                out_gcd*=fact_num1[i]\n",
    "        return out_gcd\n",
    "test1=GCD\n",
    "num1=10\n",
    "num2=15\n",
    "print(test1.check_gcd(num1,num2))"
   ]
  },
  {
   "cell_type": "code",
   "execution_count": 74,
   "id": "3a5e5922",
   "metadata": {},
   "outputs": [
    {
     "name": "stdout",
     "output_type": "stream",
     "text": [
      "5\n"
     ]
    }
   ],
   "source": [
    "# Alternate method\n",
    "def gcd1(num1, num2):\n",
    "    while num2:\n",
    "        num1, num2 = num2, num2 % num1\n",
    "    return num1\n",
    "num1=10\n",
    "num2=15\n",
    "print(gcd1(num1,num2))"
   ]
  },
  {
   "cell_type": "markdown",
   "id": "223e82a3",
   "metadata": {},
   "source": [
    "#### 28. Implement a function to calculate the square root of a given number."
   ]
  },
  {
   "cell_type": "code",
   "execution_count": 75,
   "id": "7cb811a3",
   "metadata": {},
   "outputs": [
    {
     "name": "stdout",
     "output_type": "stream",
     "text": [
      "Please enter any number = 50\n",
      "7.0710678118654755\n"
     ]
    }
   ],
   "source": [
    "class Squares:\n",
    "    def square_root_of(num):\n",
    "        return num**.5\n",
    "num=int(input(\"Please enter any number = \"))\n",
    "test1=Squares\n",
    "print(test1.square_root_of(num))\n"
   ]
  },
  {
   "cell_type": "markdown",
   "id": "95cc0ebd",
   "metadata": {},
   "source": [
    "#### 29. Write a Python program to check if a given string is a valid palindrome ignoring non-alphanumeric characters."
   ]
  },
  {
   "cell_type": "code",
   "execution_count": 89,
   "id": "2de1ced6",
   "metadata": {},
   "outputs": [
    {
     "name": "stdout",
     "output_type": "stream",
     "text": [
      "True\n",
      "False\n",
      "False\n"
     ]
    }
   ],
   "source": [
    "def is_palindrome(string):\n",
    "    new_string = \"\"\n",
    "    for character in string:\n",
    "        if character.isalnum():\n",
    "            new_string += character\n",
    "\n",
    "    reverse_string = new_string[::-1]\n",
    "\n",
    "    return new_string == reverse_string\n",
    "\n",
    "\n",
    "print(is_palindrome(\"racecar_\"))  # True\n",
    "print(is_palindrome(\"madam, I'm Adam\"))  # True\n",
    "print(is_palindrome(\"hello\"))  # False"
   ]
  },
  {
   "cell_type": "markdown",
   "id": "7608f382",
   "metadata": {},
   "source": [
    "#### 30. Implement a function to find the minimum element in a rotated sorted list."
   ]
  },
  {
   "cell_type": "code",
   "execution_count": 51,
   "id": "5d26afdd",
   "metadata": {},
   "outputs": [
    {
     "name": "stdout",
     "output_type": "stream",
     "text": [
      "Minimum element in the rotated sorted list: 1\n"
     ]
    }
   ],
   "source": [
    "def min_element(lista):\n",
    "    left=0\n",
    "    right=len(lista)-1\n",
    "    while left<right:\n",
    "        mid=(left+right)//2\n",
    "        if lista[mid]>lista[right]:\n",
    "            left=mid+1\n",
    "        else :\n",
    "            left=right\n",
    "    return lista[left]\n",
    "rotated_list = [4, 5, 6, 7,8,1, 2, 3,]\n",
    "min_element = find_minimum_element(rotated_list)\n",
    "print(\"Minimum element in the rotated sorted list:\", min_element)"
   ]
  },
  {
   "cell_type": "markdown",
   "id": "9ff1f2b1",
   "metadata": {},
   "source": [
    "#### 31. Write a program to find the sum of all even numbers in a list."
   ]
  },
  {
   "cell_type": "code",
   "execution_count": 79,
   "id": "b901e8f1",
   "metadata": {},
   "outputs": [
    {
     "name": "stdout",
     "output_type": "stream",
     "text": [
      "30\n"
     ]
    }
   ],
   "source": [
    "def sum_all_even(input_list):\n",
    "    output_sum=0\n",
    "    for i in input_list:\n",
    "        if i%2==0:\n",
    "            output_sum+=i\n",
    "    return output_sum\n",
    "lista=[1,2,3,4,5,6,7,8,9,10]\n",
    "print(sum_all_even(lista))"
   ]
  },
  {
   "cell_type": "markdown",
   "id": "26e47771",
   "metadata": {},
   "source": [
    "#### 32. Implement a function to calculate the power of a number using recursion."
   ]
  },
  {
   "cell_type": "code",
   "execution_count": 52,
   "id": "212da74e",
   "metadata": {},
   "outputs": [
    {
     "name": "stdout",
     "output_type": "stream",
     "text": [
      "2 raised to the power of 5 is 32\n"
     ]
    }
   ],
   "source": [
    "def power_recursive(base, exponent):\n",
    "    if exponent == 0:\n",
    "        return 1\n",
    "    else:\n",
    "        return base * power_recursive(base, exponent - 1)\n",
    "\n",
    "if __name__ == \"__main__\":\n",
    "    base = 2\n",
    "    exponent = 5\n",
    "    result = power_recursive(base, exponent)\n",
    "    print(f\"{base} raised to the power of {exponent} is {result}\")  "
   ]
  },
  {
   "cell_type": "markdown",
   "id": "abddc13c",
   "metadata": {},
   "source": [
    "#### 33. Write a Python program to remove duplicates from a list while preserving the order."
   ]
  },
  {
   "cell_type": "code",
   "execution_count": 56,
   "id": "95060029",
   "metadata": {},
   "outputs": [
    {
     "name": "stdout",
     "output_type": "stream",
     "text": [
      "['a', 'b', 'c', 'd', 'e']\n"
     ]
    }
   ],
   "source": [
    "def remove_dupli(input_list):\n",
    "    dic={}\n",
    "    for i in input_list:\n",
    "        if i not in dic:\n",
    "            dic[i]=1\n",
    "        else:\n",
    "            dic[i]+=1\n",
    "    return list(dic.keys())\n",
    "input_list=[\"a\",\"a\",\"b\",\"b\",\"c\",\"d\",\"e\",\"e\",\"a\",\"c\"]\n",
    "print(remove_dupli(input_list))"
   ]
  },
  {
   "cell_type": "markdown",
   "id": "8002c804",
   "metadata": {},
   "source": [
    "#### 34. Implement a function to find the longest common prefix among a list of strings."
   ]
  },
  {
   "cell_type": "code",
   "execution_count": 85,
   "id": "e25c3d42",
   "metadata": {},
   "outputs": [
    {
     "name": "stdout",
     "output_type": "stream",
     "text": [
      "Hhello\n",
      "Hh\n"
     ]
    }
   ],
   "source": [
    "def common_prefix(input_word):\n",
    "    print(input_word)\n",
    "    for i in range(0,len(input_list)-1):\n",
    "        if input_word[i].lower()!=input_word[i+1].lower():\n",
    "            return input_word[:i+1]\n",
    "input_word=\"Hhello\"\n",
    "print(common_prefix(input_word))"
   ]
  },
  {
   "cell_type": "code",
   "execution_count": 109,
   "id": "fac457a6",
   "metadata": {},
   "outputs": [
    {
     "name": "stdout",
     "output_type": "stream",
     "text": [
      "Longest common prefix: ap\n"
     ]
    }
   ],
   "source": [
    "def longest_common_prefix(strings):\n",
    "    if not strings:\n",
    "        return \"\"\n",
    "\n",
    "    prefix = \"\"\n",
    "    for i, char in enumerate(strings[0]):\n",
    "        for string in strings[1:]:\n",
    "            if i >= len(string) or char != string[i]:\n",
    "                return prefix\n",
    "        prefix += char\n",
    "\n",
    "    return prefix\n",
    "\n",
    "input_strings = [\"apple\", \"appetizer\", \"apricot\"]\n",
    "result = longest_common_prefix(input_strings)\n",
    "print(\"Longest common prefix:\", result)"
   ]
  },
  {
   "cell_type": "markdown",
   "id": "10bbe3a8",
   "metadata": {},
   "source": [
    "#### 35. Write a program to check if a given number is a perfect square."
   ]
  },
  {
   "cell_type": "code",
   "execution_count": 88,
   "id": "a7e519cb",
   "metadata": {},
   "outputs": [
    {
     "name": "stdout",
     "output_type": "stream",
     "text": [
      "True\n"
     ]
    }
   ],
   "source": [
    "class squares:\n",
    "    def is_perfect_square(num):\n",
    "        return num**.5==int(num**.5)\n",
    "test1=squares\n",
    "print(test1.is_perfect_square(9))"
   ]
  },
  {
   "cell_type": "markdown",
   "id": "d155b9b0",
   "metadata": {},
   "source": [
    "####  36. Implement a function to calculate the product of all elements in a list."
   ]
  },
  {
   "cell_type": "code",
   "execution_count": 100,
   "id": "0ec82161",
   "metadata": {},
   "outputs": [
    {
     "name": "stdout",
     "output_type": "stream",
     "text": [
      "120\n"
     ]
    }
   ],
   "source": [
    "def product_of_all(input_list):\n",
    "    output=1\n",
    "    for i in input_list:\n",
    "        output*=i\n",
    "    return output\n",
    "lista=[1,2,3,4,5]    \n",
    "print(product_of_all(lista))"
   ]
  },
  {
   "cell_type": "markdown",
   "id": "2de45219",
   "metadata": {},
   "source": [
    "#### 37. Write a Python program to reverse the order of words in a sentence while preserving the word order. "
   ]
  },
  {
   "cell_type": "code",
   "execution_count": 94,
   "id": "a49f5fe9",
   "metadata": {},
   "outputs": [
    {
     "name": "stdout",
     "output_type": "stream",
     "text": [
      "olleH ym eman si uynamuhb "
     ]
    }
   ],
   "source": [
    "def reverse_all_word(input_sentence):\n",
    "    input_sentence=input_sentence.split(\" \")\n",
    "    for word in input_sentence:\n",
    "        print(word[::-1],end=\" \")\n",
    "input_sentence=\"Hello my name is bhumanyu\"\n",
    "reverse_all_word(input_sentence)"
   ]
  },
  {
   "cell_type": "markdown",
   "id": "e0229ae4",
   "metadata": {},
   "source": [
    "#### 38. Implement a function to find the missing number in a given list of consecutive numbers."
   ]
  },
  {
   "cell_type": "code",
   "execution_count": 107,
   "id": "27e4a84a",
   "metadata": {},
   "outputs": [
    {
     "name": "stdout",
     "output_type": "stream",
     "text": [
      "5\n"
     ]
    }
   ],
   "source": [
    "def find_missing_num(input_list):\n",
    "    n=len(input_list)+1\n",
    "    total=n*(n+1)//2\n",
    "    actual=sum(input_list)\n",
    "    return total-actual\n",
    "\n",
    "input_list=[1,2,3,4,6]\n",
    "print(find_missing_num(input_list))\n",
    "    "
   ]
  },
  {
   "cell_type": "markdown",
   "id": "bad6e37c",
   "metadata": {},
   "source": [
    "#### 39. Write a program to find the sum of digits of a given number."
   ]
  },
  {
   "cell_type": "code",
   "execution_count": 112,
   "id": "9d51ec98",
   "metadata": {},
   "outputs": [
    {
     "name": "stdout",
     "output_type": "stream",
     "text": [
      "45\n"
     ]
    }
   ],
   "source": [
    "def sum_of_nums(num):\n",
    "    output=0\n",
    "    for i in str(num):\n",
    "        output+=int(i)\n",
    "    return output\n",
    "num=123456789\n",
    "print(sum_of_nums(num))"
   ]
  },
  {
   "cell_type": "code",
   "execution_count": 115,
   "id": "cb5b7b01",
   "metadata": {},
   "outputs": [
    {
     "name": "stdout",
     "output_type": "stream",
     "text": [
      "45\n"
     ]
    }
   ],
   "source": [
    "# Alternate solution \n",
    "def sum_of_nums2(num):\n",
    "    output=0\n",
    "    while num>0:\n",
    "        i=num%10\n",
    "        output+=i\n",
    "        num //=10\n",
    "    return output\n",
    "num=123456789\n",
    "print(sum_of_nums2(num))"
   ]
  },
  {
   "cell_type": "markdown",
   "id": "2ae2fb24",
   "metadata": {},
   "source": [
    "#### 40. Implement a function to check if a given string is a valid palindrome considering case sensitivity."
   ]
  },
  {
   "cell_type": "code",
   "execution_count": 1,
   "id": "35cc3fc2",
   "metadata": {},
   "outputs": [
    {
     "name": "stdout",
     "output_type": "stream",
     "text": [
      "Please enter any word = madam\n",
      "True\n"
     ]
    }
   ],
   "source": [
    "def check_is_palindrome(word):\n",
    "    for i in range(int(len(word)/2)):\n",
    "        if word[i]!=word[-i-1]:\n",
    "            return False\n",
    "    return True\n",
    "word=input(\"Please enter any word = \")\n",
    "print(check_is_palindrome(word))"
   ]
  },
  {
   "cell_type": "markdown",
   "id": "f4c8246c",
   "metadata": {},
   "source": [
    "#### 41. Write a Python program to find the smallest missing positive integer in a list."
   ]
  },
  {
   "cell_type": "code",
   "execution_count": 67,
   "id": "29b32ffb",
   "metadata": {},
   "outputs": [
    {
     "name": "stdout",
     "output_type": "stream",
     "text": [
      "6\n"
     ]
    }
   ],
   "source": [
    "class Positive_integer:\n",
    "    def smallest_missing(input_list):\n",
    "        for i in range(len(input_list)):\n",
    "            if input_list[i]+1 < input_list[i+1]:\n",
    "                return input_list[i]+1\n",
    "test1=Positive_integer\n",
    "input_list=[1,2,3,4,5,8,9]\n",
    "print(test1.smallest_missing(input_list))"
   ]
  },
  {
   "cell_type": "markdown",
   "id": "a85bd87a",
   "metadata": {},
   "source": [
    "#### 42. Implement a function to find the longest palindrome substring in a given string"
   ]
  },
  {
   "cell_type": "code",
   "execution_count": 108,
   "id": "c8bc1b46",
   "metadata": {},
   "outputs": [
    {
     "name": "stdout",
     "output_type": "stream",
     "text": [
      "Longest palindrome substring: bab\n"
     ]
    }
   ],
   "source": [
    "def longest_palindrome_substring(s):\n",
    "    def expand_around_center(left, right):\n",
    "        while left >= 0 and right < len(s) and s[left] == s[right]:\n",
    "            left -= 1\n",
    "            right += 1\n",
    "        return s[left + 1:right]\n",
    "\n",
    "    longest_palindrome = \"\"\n",
    "    for i in range(len(s)):\n",
    "        # Check for odd-length palindromes\n",
    "        palindrome1 = expand_around_center(i, i)\n",
    "        # Check for even-length palindromes\n",
    "        palindrome2 = expand_around_center(i, i + 1)\n",
    "\n",
    "        # Choose the longer palindrome between the two\n",
    "        current_longest = palindrome1 if len(palindrome1) > len(palindrome2) else palindrome2\n",
    "\n",
    "        if len(current_longest) > len(longest_palindrome):\n",
    "            longest_palindrome = current_longest\n",
    "\n",
    "    return longest_palindrome\n",
    "\n",
    "if __name__ == \"__main__\":\n",
    "    input_string = \"babad\"\n",
    "    result = longest_palindrome_substring(input_string)\n",
    "    print(\"Longest palindrome substring:\", result)"
   ]
  },
  {
   "cell_type": "markdown",
   "id": "4522ae2f",
   "metadata": {},
   "source": [
    "#### 43. Write a program to find the number of occurrences of a given element in a list."
   ]
  },
  {
   "cell_type": "code",
   "execution_count": 11,
   "id": "7c293b7f",
   "metadata": {},
   "outputs": [
    {
     "name": "stdout",
     "output_type": "stream",
     "text": [
      "4\n"
     ]
    }
   ],
   "source": [
    "def how_many(input_list,element):\n",
    "    count=0\n",
    "    for i in input_list:\n",
    "        if i == element:\n",
    "            count+=1\n",
    "    return count\n",
    "input_list=[1,2,3,4,5,3,3,6,3]\n",
    "print(how_many(input_list,3))"
   ]
  },
  {
   "cell_type": "markdown",
   "id": "b94a4fa5",
   "metadata": {},
   "source": [
    "#### 44. Implement a function to check if a given number is a perfect number."
   ]
  },
  {
   "cell_type": "code",
   "execution_count": 68,
   "id": "115e0907",
   "metadata": {},
   "outputs": [
    {
     "name": "stdout",
     "output_type": "stream",
     "text": [
      "True\n"
     ]
    }
   ],
   "source": [
    "def is_perfect_no(number):\n",
    "    count=0\n",
    "    for i in range(1,int(number/2)+1):\n",
    "        if number % i ==0:\n",
    "             count+=i\n",
    "    return count==number\n",
    "number=28\n",
    "print(is_perfect_no(number))"
   ]
  },
  {
   "cell_type": "markdown",
   "id": "59a672f7",
   "metadata": {},
   "source": [
    "#### 45. Write a Python program to remove all duplicates from a string."
   ]
  },
  {
   "cell_type": "code",
   "execution_count": 36,
   "id": "8f8fc504",
   "metadata": {},
   "outputs": [
    {
     "name": "stdout",
     "output_type": "stream",
     "text": [
      "helo\n"
     ]
    }
   ],
   "source": [
    "def remove_duplicates(word):\n",
    "    seen = set()\n",
    "    result = \"\"\n",
    "    for char in word:\n",
    "        if char not in seen:\n",
    "            result += char\n",
    "            seen.add(char)\n",
    "    return result\n",
    "print(remove_duplicates(\"hello\"))"
   ]
  },
  {
   "cell_type": "markdown",
   "id": "6440cee2",
   "metadata": {},
   "source": [
    "#### 46. Implement a function to find the first missing positive"
   ]
  },
  {
   "cell_type": "code",
   "execution_count": 61,
   "id": "698d9263",
   "metadata": {},
   "outputs": [
    {
     "name": "stdout",
     "output_type": "stream",
     "text": [
      "her\n",
      "6\n"
     ]
    }
   ],
   "source": [
    "def firstMissingPositive(input_list):\n",
    "    \n",
    "    for i in range(len(input_list)-1):\n",
    "        if input_list[i]+1!=input_list[i+1]:\n",
    "            print(\"her\")\n",
    "            return input_list[i]+1\n",
    "    print(\"h\")\n",
    "    return input_list[i+1]+1  \n",
    "input_list=[1,2,3,4,5,7]\n",
    "print(firstMissingPositive(input_list))"
   ]
  }
 ],
 "metadata": {
  "kernelspec": {
   "display_name": "Python 3 (ipykernel)",
   "language": "python",
   "name": "python3"
  },
  "language_info": {
   "codemirror_mode": {
    "name": "ipython",
    "version": 3
   },
   "file_extension": ".py",
   "mimetype": "text/x-python",
   "name": "python",
   "nbconvert_exporter": "python",
   "pygments_lexer": "ipython3",
   "version": "3.11.0"
  }
 },
 "nbformat": 4,
 "nbformat_minor": 5
}
